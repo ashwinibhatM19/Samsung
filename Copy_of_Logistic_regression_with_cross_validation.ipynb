{
  "nbformat": 4,
  "nbformat_minor": 0,
  "metadata": {
    "colab": {
      "provenance": [],
      "include_colab_link": true
    },
    "kernelspec": {
      "name": "python3",
      "display_name": "Python 3"
    },
    "language_info": {
      "name": "python"
    }
  },
  "cells": [
    {
      "cell_type": "markdown",
      "metadata": {
        "id": "view-in-github",
        "colab_type": "text"
      },
      "source": [
        "<a href=\"https://colab.research.google.com/github/ashwinibhatM19/Samsung/blob/main/Copy_of_Logistic_regression_with_cross_validation.ipynb\" target=\"_parent\"><img src=\"https://colab.research.google.com/assets/colab-badge.svg\" alt=\"Open In Colab\"/></a>"
      ]
    },
    {
      "cell_type": "code",
      "execution_count": null,
      "metadata": {
        "id": "7_JWT6Ce98-E"
      },
      "outputs": [],
      "source": [
        "import pandas as pd\n",
        "import numpy as np\n",
        "import matplotlib.pyplot as plt\n",
        "import seaborn as sns\n",
        "\n",
        "from sklearn.model_selection import train_test_split, StratifiedKFold, cross_val_score\n",
        "from sklearn.preprocessing import StandardScaler\n",
        "from sklearn.linear_model import LogisticRegression"
      ]
    },
    {
      "cell_type": "code",
      "source": [
        "import pandas as pd\n",
        "\n",
        "# Load CSV (adjust the path if needed)\n",
        "df_fetal = pd.read_csv('/content/fetal_health.csv')\n"
      ],
      "metadata": {
        "id": "4qHIW3RJ9_F6"
      },
      "execution_count": null,
      "outputs": []
    },
    {
      "cell_type": "code",
      "source": [
        "X = df_fetal.drop('fetal_health', axis=1)\n",
        "y = df_fetal['fetal_health']"
      ],
      "metadata": {
        "id": "jakaCUEA-Jzh"
      },
      "execution_count": null,
      "outputs": []
    },
    {
      "cell_type": "code",
      "source": [
        "\n",
        "scaler = StandardScaler()\n",
        "X_scaled = scaler.fit_transform(X)"
      ],
      "metadata": {
        "id": "mOgZBmbYaOEc"
      },
      "execution_count": null,
      "outputs": []
    },
    {
      "cell_type": "markdown",
      "source": [
        "Choose a cross-validation strategy: For imbalanced datasets like breast cancer, StratifiedKFold is recommended to maintain class proportions in each fold"
      ],
      "metadata": {
        "id": "ErdU0PSL-fBd"
      }
    },
    {
      "cell_type": "code",
      "source": [
        "model = LogisticRegression(solver='liblinear', max_iter=1000)"
      ],
      "metadata": {
        "id": "ok489TGZ-Za4"
      },
      "execution_count": null,
      "outputs": []
    },
    {
      "cell_type": "markdown",
      "source": [
        "Perform cross-validation and evaluate scores: Use cross_val_score for a concise approach."
      ],
      "metadata": {
        "id": "JPIHOPsO-r14"
      }
    },
    {
      "cell_type": "code",
      "source": [
        "skf = StratifiedKFold(n_splits=10, shuffle=True, random_state=42)\n",
        "cv_scores = cross_val_score(model, X_scaled, y, cv=skf, scoring='accuracy')"
      ],
      "metadata": {
        "id": "OE_hYKQ4-mu4"
      },
      "execution_count": null,
      "outputs": []
    },
    {
      "cell_type": "code",
      "source": [
        "print(\"Fetal Health Dataset:\")"
      ],
      "metadata": {
        "colab": {
          "base_uri": "https://localhost:8080/"
        },
        "id": "A9S0p5Yi-18P",
        "outputId": "e3e7073b-9e79-4767-ca0d-1d3bc9ae191b"
      },
      "execution_count": null,
      "outputs": [
        {
          "output_type": "stream",
          "name": "stdout",
          "text": [
            "Fetal Health Dataset:\n"
          ]
        }
      ]
    },
    {
      "cell_type": "code",
      "source": [
        "print(\"Cross-validation scores:\", cv_scores)"
      ],
      "metadata": {
        "colab": {
          "base_uri": "https://localhost:8080/"
        },
        "id": "G8UjISaybaWT",
        "outputId": "d7f0ea5b-f415-4f47-df2e-8959634c0aad"
      },
      "execution_count": null,
      "outputs": [
        {
          "output_type": "stream",
          "name": "stdout",
          "text": [
            "Cross-validation scores: [0.87793427 0.90610329 0.92957746 0.87793427 0.90140845 0.90140845\n",
            " 0.88679245 0.88679245 0.87735849 0.89622642]\n"
          ]
        }
      ]
    },
    {
      "cell_type": "code",
      "source": [
        "print(\"Mean accuracy:\", np.mean(cv_scores))"
      ],
      "metadata": {
        "colab": {
          "base_uri": "https://localhost:8080/"
        },
        "id": "zYbDNNsWbcmY",
        "outputId": "4e4581ba-5ef9-4d02-a013-e0c996bc8172"
      },
      "execution_count": null,
      "outputs": [
        {
          "output_type": "stream",
          "name": "stdout",
          "text": [
            "Mean accuracy: 0.8941536008503854\n"
          ]
        }
      ]
    },
    {
      "cell_type": "code",
      "source": [
        "print(\"Standard deviation:\", np.std(cv_scores))"
      ],
      "metadata": {
        "id": "aMZgkZjb-7UG",
        "colab": {
          "base_uri": "https://localhost:8080/"
        },
        "outputId": "38df28ec-e962-41f4-a59f-09c51792aec6"
      },
      "execution_count": null,
      "outputs": [
        {
          "output_type": "stream",
          "name": "stdout",
          "text": [
            "Standard deviation: 0.015568523820278285\n"
          ]
        }
      ]
    }
  ]
}