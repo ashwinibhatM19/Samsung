{
  "nbformat": 4,
  "nbformat_minor": 0,
  "metadata": {
    "colab": {
      "provenance": [],
      "include_colab_link": true
    },
    "kernelspec": {
      "name": "python3",
      "display_name": "Python 3"
    },
    "language_info": {
      "name": "python"
    }
  },
  "cells": [
    {
      "cell_type": "markdown",
      "metadata": {
        "id": "view-in-github",
        "colab_type": "text"
      },
      "source": [
        "<a href=\"https://colab.research.google.com/github/ashwinibhatM19/Samsung/blob/main/LR_with_cross_validation_mushrooms.ipynb\" target=\"_parent\"><img src=\"https://colab.research.google.com/assets/colab-badge.svg\" alt=\"Open In Colab\"/></a>"
      ]
    },
    {
      "cell_type": "code",
      "execution_count": 1,
      "metadata": {
        "id": "7_JWT6Ce98-E"
      },
      "outputs": [],
      "source": [
        "import pandas as pd\n",
        "import numpy as np\n",
        "import matplotlib.pyplot as plt\n",
        "import seaborn as sns\n",
        "\n",
        "from sklearn.model_selection import train_test_split\n",
        "from sklearn.preprocessing import StandardScaler\n",
        "from sklearn.linear_model import LogisticRegression\n",
        "from sklearn.model_selection import StratifiedKFold, cross_val_score\n"
      ]
    },
    {
      "cell_type": "code",
      "source": [
        "df = pd.read_csv('/content/mushrooms.csv')"
      ],
      "metadata": {
        "id": "jakaCUEA-Jzh"
      },
      "execution_count": 2,
      "outputs": []
    },
    {
      "cell_type": "code",
      "source": [
        "# Convert categorical features to numerical using one-hot encoding\n",
        "X = pd.get_dummies(df.drop('class', axis=1)).values\n",
        "\n",
        "# Convert the target variable to numerical (0 for 'e', 1 for 'p')\n",
        "y = df['class'].apply(lambda x: 1 if x == 'p' else 0).values"
      ],
      "metadata": {
        "id": "mOgZBmbYaOEc"
      },
      "execution_count": 3,
      "outputs": []
    },
    {
      "cell_type": "markdown",
      "source": [
        "Choose a cross-validation strategy: For imbalanced datasets like breast cancer, StratifiedKFold is recommended to maintain class proportions in each fold"
      ],
      "metadata": {
        "id": "ErdU0PSL-fBd"
      }
    },
    {
      "cell_type": "code",
      "source": [
        "scaler = StandardScaler()\n",
        "X = scaler.fit_transform(X)"
      ],
      "metadata": {
        "id": "ok489TGZ-Za4"
      },
      "execution_count": 4,
      "outputs": []
    },
    {
      "cell_type": "markdown",
      "source": [
        "Perform cross-validation and evaluate scores: Use cross_val_score for a concise approach."
      ],
      "metadata": {
        "id": "JPIHOPsO-r14"
      }
    },
    {
      "cell_type": "code",
      "source": [
        "model = LogisticRegression(solver='liblinear', max_iter=1000)  # 'liblinear' works well for small datasets"
      ],
      "metadata": {
        "id": "OE_hYKQ4-mu4"
      },
      "execution_count": 5,
      "outputs": []
    },
    {
      "cell_type": "code",
      "source": [
        "print(\"Model parameters:\", model.get_params())"
      ],
      "metadata": {
        "colab": {
          "base_uri": "https://localhost:8080/"
        },
        "id": "A9S0p5Yi-18P",
        "outputId": "7ca4f83c-0905-4669-fdd5-b10cb40ed934"
      },
      "execution_count": 6,
      "outputs": [
        {
          "output_type": "stream",
          "name": "stdout",
          "text": [
            "Model parameters: {'C': 1.0, 'class_weight': None, 'dual': False, 'fit_intercept': True, 'intercept_scaling': 1, 'l1_ratio': None, 'max_iter': 1000, 'multi_class': 'deprecated', 'n_jobs': None, 'penalty': 'l2', 'random_state': None, 'solver': 'liblinear', 'tol': 0.0001, 'verbose': 0, 'warm_start': False}\n"
          ]
        }
      ]
    },
    {
      "cell_type": "code",
      "source": [
        "skf = StratifiedKFold(n_splits=10, shuffle=True, random_state=42)"
      ],
      "metadata": {
        "id": "G8UjISaybaWT"
      },
      "execution_count": 7,
      "outputs": []
    },
    {
      "cell_type": "code",
      "source": [
        "cv_scores = cross_val_score(model, X, y, cv=skf, scoring='accuracy')"
      ],
      "metadata": {
        "id": "zYbDNNsWbcmY"
      },
      "execution_count": 8,
      "outputs": []
    },
    {
      "cell_type": "code",
      "source": [
        "print(\"Cross-validation scores:\", cv_scores)\n"
      ],
      "metadata": {
        "id": "aMZgkZjb-7UG",
        "colab": {
          "base_uri": "https://localhost:8080/"
        },
        "outputId": "d219a7d4-2c12-4561-8945-66df9804cef4"
      },
      "execution_count": 9,
      "outputs": [
        {
          "output_type": "stream",
          "name": "stdout",
          "text": [
            "Cross-validation scores: [1. 1. 1. 1. 1. 1. 1. 1. 1. 1.]\n"
          ]
        }
      ]
    },
    {
      "cell_type": "code",
      "source": [
        "print(\"Mean accuracy:\", np.mean(cv_scores))\n",
        "\n"
      ],
      "metadata": {
        "colab": {
          "base_uri": "https://localhost:8080/"
        },
        "id": "apKrmXp-lMtr",
        "outputId": "6fd5fd9b-a6a9-4f9b-fdbf-aedb7385c620"
      },
      "execution_count": 10,
      "outputs": [
        {
          "output_type": "stream",
          "name": "stdout",
          "text": [
            "Mean accuracy: 1.0\n"
          ]
        }
      ]
    },
    {
      "cell_type": "code",
      "source": [
        "print(\"Standard deviation of accuracy:\", np.std(cv_scores))"
      ],
      "metadata": {
        "id": "HAAG5a37lQPL",
        "outputId": "8854a9bf-269d-4d2a-cb20-0acf9a4dce60",
        "colab": {
          "base_uri": "https://localhost:8080/"
        }
      },
      "execution_count": 11,
      "outputs": [
        {
          "output_type": "stream",
          "name": "stdout",
          "text": [
            "Standard deviation of accuracy: 0.0\n"
          ]
        }
      ]
    }
  ]
}