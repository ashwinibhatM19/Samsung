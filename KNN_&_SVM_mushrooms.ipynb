{
  "nbformat": 4,
  "nbformat_minor": 0,
  "metadata": {
    "colab": {
      "provenance": [],
      "include_colab_link": true
    },
    "kernelspec": {
      "name": "python3",
      "display_name": "Python 3"
    },
    "language_info": {
      "name": "python"
    }
  },
  "cells": [
    {
      "cell_type": "markdown",
      "metadata": {
        "id": "view-in-github",
        "colab_type": "text"
      },
      "source": [
        "<a href=\"https://colab.research.google.com/github/ashwinibhatM19/Samsung/blob/main/KNN_%26_SVM_mushrooms.ipynb\" target=\"_parent\"><img src=\"https://colab.research.google.com/assets/colab-badge.svg\" alt=\"Open In Colab\"/></a>"
      ]
    },
    {
      "cell_type": "code",
      "execution_count": 1,
      "metadata": {
        "id": "56JWEjz62f6N"
      },
      "outputs": [],
      "source": [
        "import numpy as np\n",
        "import time\n",
        "from sklearn.datasets import load_breast_cancer\n",
        "from sklearn.model_selection import train_test_split\n",
        "from sklearn.preprocessing import StandardScaler\n",
        "from sklearn.neighbors import KNeighborsClassifier\n",
        "from sklearn.svm import SVC\n",
        "from sklearn.metrics import accuracy_score, classification_report, roc_auc_score"
      ]
    },
    {
      "cell_type": "code",
      "source": [
        "# Load the breast cancer dataset\n",
        "df = load_breast_cancer()\n",
        "\n",
        "X = df.data\n",
        "\n",
        "y = df.target\n"
      ],
      "metadata": {
        "id": "fKVa2_xu37Bu"
      },
      "execution_count": 2,
      "outputs": []
    },
    {
      "cell_type": "code",
      "source": [
        "# Split data into training and testing sets\n",
        "X_train, X_test, y_train, y_test = train_test_split(X, y, test_size=0.3, random_state=42, stratify=y)\n"
      ],
      "metadata": {
        "id": "ScWUeIRL35RG"
      },
      "execution_count": 3,
      "outputs": []
    },
    {
      "cell_type": "code",
      "source": [
        "# Feature Scaling is critical for KNN and SVM\n",
        "scaler = StandardScaler()\n",
        "\n",
        "X_train_scaled = scaler.fit_transform(X_train)\n",
        "\n",
        "X_test_scaled = scaler.transform(X_test)"
      ],
      "metadata": {
        "id": "mP2c3Sco30_L"
      },
      "execution_count": 4,
      "outputs": []
    },
    {
      "cell_type": "markdown",
      "source": [
        "#K-Nearest Neighbors (KNN) Classifier\n",
        "KNN is a simple, instance-based learning algorithm that classifies new data points based on the majority class of its nearest neighbors. The performance is heavily influenced by the choice of 'k' (number of neighbors). For this example, we'll use a k of 5, which is a common starting point."
      ],
      "metadata": {
        "id": "1XAUXFE12uZW"
      }
    },
    {
      "cell_type": "code",
      "source": [
        "# Initialize and train the KNN Classifier\n",
        "start_time_knn = time.time()\n",
        "\n",
        "knn_model = KNeighborsClassifier(n_neighbors=5)\n",
        "\n",
        "knn_model.fit(X_train_scaled, y_train)\n",
        "\n",
        "end_time_knn = time.time()\n"
      ],
      "metadata": {
        "id": "PkxCfABn2rGR"
      },
      "execution_count": 5,
      "outputs": []
    },
    {
      "cell_type": "code",
      "source": [
        "# Make predictions and evaluate\n",
        "y_pred_knn = knn_model.predict(X_test_scaled)\n",
        "\n",
        "accuracy_knn = accuracy_score(y_test, y_pred_knn)\n",
        "\n",
        "roc_auc_knn = roc_auc_score(y_test, y_pred_knn)\n",
        "\n",
        "training_time_knn = end_time_knn - start_time_knn\n"
      ],
      "metadata": {
        "id": "PblCTZm83uC0"
      },
      "execution_count": 6,
      "outputs": []
    },
    {
      "cell_type": "code",
      "source": [
        "print(\"=== K-Nearest Neighbors (KNN) ===\")\n",
        "print(f\"Accuracy: {accuracy_knn:.4f}\")\n",
        "\n",
        "print(f\"ROC AUC Score: {roc_auc_knn:.4f}\")\n",
        "\n",
        "print(f\"Training Time: {training_time_knn:.4f} seconds\")\n",
        "\n",
        "print(\"\\nClassification Report:\")\n",
        "print(classification_report(y_test, y_pred_knn))"
      ],
      "metadata": {
        "id": "DG9nEP4F3pdt",
        "colab": {
          "base_uri": "https://localhost:8080/"
        },
        "outputId": "5850f69a-e3a8-4a85-d6bc-7e16e7bcceef"
      },
      "execution_count": 7,
      "outputs": [
        {
          "output_type": "stream",
          "name": "stdout",
          "text": [
            "=== K-Nearest Neighbors (KNN) ===\n",
            "Accuracy: 0.9591\n",
            "ROC AUC Score: 0.9453\n",
            "Training Time: 0.0016 seconds\n",
            "\n",
            "Classification Report:\n",
            "              precision    recall  f1-score   support\n",
            "\n",
            "           0       1.00      0.89      0.94        64\n",
            "           1       0.94      1.00      0.97       107\n",
            "\n",
            "    accuracy                           0.96       171\n",
            "   macro avg       0.97      0.95      0.96       171\n",
            "weighted avg       0.96      0.96      0.96       171\n",
            "\n"
          ]
        }
      ]
    },
    {
      "cell_type": "markdown",
      "source": [
        "#Support Vector Machine (SVM) Classifier\n",
        "SVM is a powerful algorithm that finds the optimal hyperplane to separate different classes. The SVC (Support Vector Classifier) in scikit-learn is a versatile implementation that can use different kernels, such as the rbf (Radial Basis Function) kernel for non-linear decision boundaries."
      ],
      "metadata": {
        "id": "YhmCGPlm22dD"
      }
    },
    {
      "cell_type": "code",
      "source": [
        "# Initialize and train the SVM Classifier\n",
        "start_time_svm = time.time()\n",
        "svm_model = SVC(kernel='rbf',\n",
        "                C=1.0,\n",
        "                gamma='scale',\n",
        "                random_state=42)\n",
        "\n",
        "svm_model.fit(X_train_scaled, y_train)\n",
        "\n",
        "end_time_svm = time.time()"
      ],
      "metadata": {
        "id": "3LLokmc52y0L"
      },
      "execution_count": 8,
      "outputs": []
    },
    {
      "cell_type": "code",
      "source": [
        "# Make predictions and evaluate\n",
        "y_pred_svm = svm_model.predict(X_test_scaled)\n",
        "\n",
        "accuracy_svm = accuracy_score(y_test, y_pred_svm)\n",
        "\n",
        "roc_auc_svm = roc_auc_score(y_test, y_pred_svm)\n",
        "\n",
        "training_time_svm = end_time_svm - start_time_svm"
      ],
      "metadata": {
        "id": "nZzTBJDt3Vrd"
      },
      "execution_count": 9,
      "outputs": []
    },
    {
      "cell_type": "code",
      "source": [
        "print(\"\\n=== Support Vector Machine (SVM) ===\")\n",
        "print(f\"Accuracy: {accuracy_svm:.4f}\")\n",
        "\n",
        "print(f\"ROC AUC Score: {roc_auc_svm:.4f}\")\n",
        "\n",
        "print(f\"Training Time: {training_time_svm:.4f} seconds\")\n",
        "\n",
        "print(\"\\nClassification Report:\")\n",
        "print(classification_report(y_test, y_pred_svm))"
      ],
      "metadata": {
        "id": "9VRxBvTg3b54",
        "colab": {
          "base_uri": "https://localhost:8080/"
        },
        "outputId": "f62c82e6-dddd-4ca9-b53e-15cfb19a0337"
      },
      "execution_count": 10,
      "outputs": [
        {
          "output_type": "stream",
          "name": "stdout",
          "text": [
            "\n",
            "=== Support Vector Machine (SVM) ===\n",
            "Accuracy: 0.9766\n",
            "ROC AUC Score: 0.9750\n",
            "Training Time: 0.0092 seconds\n",
            "\n",
            "Classification Report:\n",
            "              precision    recall  f1-score   support\n",
            "\n",
            "           0       0.97      0.97      0.97        64\n",
            "           1       0.98      0.98      0.98       107\n",
            "\n",
            "    accuracy                           0.98       171\n",
            "   macro avg       0.98      0.98      0.98       171\n",
            "weighted avg       0.98      0.98      0.98       171\n",
            "\n"
          ]
        }
      ]
    },
    {
      "cell_type": "markdown",
      "source": [
        "When you run this code, you will likely see that both KNN and SVM achieve very high accuracy on this dataset. SVM, in particular, often performs exceptionally well because it's effective at finding a clear decision boundary even in high-dimensional space. While KNN is simple to implement, its performance can be more sensitive to the choice of 'k' and the distance metric."
      ],
      "metadata": {
        "id": "deKumJJT2-KL"
      }
    },
    {
      "cell_type": "code",
      "source": [
        "import pandas as pd\n",
        "import numpy as np\n",
        "import time\n",
        "from sklearn.model_selection import train_test_split\n",
        "from sklearn.preprocessing import StandardScaler, LabelEncoder\n",
        "from sklearn.neighbors import KNeighborsClassifier\n",
        "from sklearn.svm import SVC\n",
        "from sklearn.metrics import accuracy_score, classification_report, roc_auc_score"
      ],
      "metadata": {
        "id": "OkhJWhSV26y4"
      },
      "execution_count": 11,
      "outputs": []
    },
    {
      "cell_type": "code",
      "source": [
        "df = pd.read_csv('mushrooms.csv')"
      ],
      "metadata": {
        "id": "ncl6XKVWssbC"
      },
      "execution_count": 13,
      "outputs": []
    },
    {
      "cell_type": "code",
      "source": [
        "label_encoders = {}\n",
        "for column in df.columns:\n",
        "    le = LabelEncoder()\n",
        "    df[column] = le.fit_transform(df[column])\n",
        "    label_encoders[column] = le\n"
      ],
      "metadata": {
        "id": "fn_x0aq1sx4S"
      },
      "execution_count": 14,
      "outputs": []
    },
    {
      "cell_type": "code",
      "source": [
        "X = df.drop('class', axis=1)\n",
        "y = df['class']"
      ],
      "metadata": {
        "id": "Qu-MY62Asy6x"
      },
      "execution_count": 15,
      "outputs": []
    },
    {
      "cell_type": "code",
      "source": [
        "X_train, X_test, y_train, y_test = train_test_split(\n",
        "    X, y, test_size=0.3, random_state=42, stratify=y)"
      ],
      "metadata": {
        "id": "9zRk1QTOs1dI"
      },
      "execution_count": 16,
      "outputs": []
    },
    {
      "cell_type": "code",
      "source": [
        "scaler = StandardScaler()\n",
        "X_train_scaled = scaler.fit_transform(X_train)\n",
        "X_test_scaled = scaler.transform(X_test)"
      ],
      "metadata": {
        "id": "0-617VQGs4aS"
      },
      "execution_count": 17,
      "outputs": []
    },
    {
      "cell_type": "code",
      "source": [
        "start_time_knn = time.time()\n",
        "knn_model = KNeighborsClassifier(n_neighbors=5)\n",
        "knn_model.fit(X_train_scaled, y_train)\n",
        "end_time_knn = time.time()"
      ],
      "metadata": {
        "id": "lModqX3Ws644"
      },
      "execution_count": 18,
      "outputs": []
    },
    {
      "cell_type": "code",
      "source": [
        "y_pred_knn = knn_model.predict(X_test_scaled)\n",
        "accuracy_knn = accuracy_score(y_test, y_pred_knn)\n",
        "roc_auc_knn = roc_auc_score(y_test, y_pred_knn)\n",
        "training_time_knn = end_time_knn - start_time_knn"
      ],
      "metadata": {
        "id": "lBUSDUpKs9Wy"
      },
      "execution_count": 19,
      "outputs": []
    },
    {
      "cell_type": "code",
      "source": [
        "print(\"=== K-Nearest Neighbors (KNN) ===\")\n",
        "print(f\"Accuracy: {accuracy_knn:.4f}\")"
      ],
      "metadata": {
        "colab": {
          "base_uri": "https://localhost:8080/"
        },
        "id": "7Q_PGKcptDxR",
        "outputId": "19a67bce-cb0d-4f0e-b59e-6c11b5dee61a"
      },
      "execution_count": 20,
      "outputs": [
        {
          "output_type": "stream",
          "name": "stdout",
          "text": [
            "=== K-Nearest Neighbors (KNN) ===\n",
            "Accuracy: 1.0000\n"
          ]
        }
      ]
    },
    {
      "cell_type": "code",
      "source": [
        "print(f\"ROC AUC Score: {roc_auc_knn:.4f}\")"
      ],
      "metadata": {
        "colab": {
          "base_uri": "https://localhost:8080/"
        },
        "id": "WmLA_8YdtNyx",
        "outputId": "61f3e425-2fb1-4f29-e583-2d4739ac8fb1"
      },
      "execution_count": 21,
      "outputs": [
        {
          "output_type": "stream",
          "name": "stdout",
          "text": [
            "ROC AUC Score: 1.0000\n"
          ]
        }
      ]
    },
    {
      "cell_type": "code",
      "source": [
        "print(f\"Training Time: {training_time_knn:.4f} seconds\")"
      ],
      "metadata": {
        "colab": {
          "base_uri": "https://localhost:8080/"
        },
        "id": "pHe-hy-dtQN6",
        "outputId": "d74ff599-8d27-469d-b05a-5bed923c390c"
      },
      "execution_count": 22,
      "outputs": [
        {
          "output_type": "stream",
          "name": "stdout",
          "text": [
            "Training Time: 0.0066 seconds\n"
          ]
        }
      ]
    },
    {
      "cell_type": "code",
      "source": [
        "print(\"\\nClassification Report:\")\n",
        "print(classification_report(y_test, y_pred_knn))"
      ],
      "metadata": {
        "colab": {
          "base_uri": "https://localhost:8080/"
        },
        "id": "gvHlq_pktSpA",
        "outputId": "d7169ad0-30eb-4a24-c3b0-8a92e5c86b9c"
      },
      "execution_count": 24,
      "outputs": [
        {
          "output_type": "stream",
          "name": "stdout",
          "text": [
            "\n",
            "Classification Report:\n",
            "              precision    recall  f1-score   support\n",
            "\n",
            "           0       1.00      1.00      1.00      1263\n",
            "           1       1.00      1.00      1.00      1175\n",
            "\n",
            "    accuracy                           1.00      2438\n",
            "   macro avg       1.00      1.00      1.00      2438\n",
            "weighted avg       1.00      1.00      1.00      2438\n",
            "\n"
          ]
        }
      ]
    },
    {
      "cell_type": "code",
      "source": [
        "start_time_svm = time.time()\n",
        "svm_model = SVC(kernel='rbf', C=1.0, gamma='scale', random_state=42)\n",
        "svm_model.fit(X_train_scaled, y_train)\n",
        "end_time_svm = time.time()"
      ],
      "metadata": {
        "id": "UnaaVf_WtY9R"
      },
      "execution_count": 25,
      "outputs": []
    },
    {
      "cell_type": "code",
      "source": [
        "y_pred_svm = svm_model.predict(X_test_scaled)\n",
        "accuracy_svm = accuracy_score(y_test, y_pred_svm)\n",
        "roc_auc_svm = roc_auc_score(y_test, y_pred_svm)\n",
        "training_time_svm = end_time_svm - start_time_svm"
      ],
      "metadata": {
        "id": "66WAVWbkte7X"
      },
      "execution_count": 26,
      "outputs": []
    },
    {
      "cell_type": "code",
      "source": [
        "print(\"\\n=== Support Vector Machine (SVM) ===\")\n",
        "print(f\"Accuracy: {accuracy_svm:.4f}\")"
      ],
      "metadata": {
        "colab": {
          "base_uri": "https://localhost:8080/"
        },
        "id": "NqkWLuGRthbh",
        "outputId": "72fe384b-3d63-4397-a7af-6085a153a6cd"
      },
      "execution_count": 27,
      "outputs": [
        {
          "output_type": "stream",
          "name": "stdout",
          "text": [
            "\n",
            "=== Support Vector Machine (SVM) ===\n",
            "Accuracy: 1.0000\n"
          ]
        }
      ]
    },
    {
      "cell_type": "code",
      "source": [
        "print(f\"ROC AUC Score: {roc_auc_svm:.4f}\")"
      ],
      "metadata": {
        "colab": {
          "base_uri": "https://localhost:8080/"
        },
        "id": "n_e-4Nxhu9rJ",
        "outputId": "70d37612-1132-40f9-cfdb-28d1e27190d1"
      },
      "execution_count": 28,
      "outputs": [
        {
          "output_type": "stream",
          "name": "stdout",
          "text": [
            "ROC AUC Score: 1.0000\n"
          ]
        }
      ]
    },
    {
      "cell_type": "code",
      "source": [
        "print(f\"Training Time: {training_time_svm:.4f} seconds\")"
      ],
      "metadata": {
        "colab": {
          "base_uri": "https://localhost:8080/"
        },
        "id": "FfP-vW8qvaXB",
        "outputId": "e1343dfe-314b-4a1c-b9f0-fc6811873930"
      },
      "execution_count": 29,
      "outputs": [
        {
          "output_type": "stream",
          "name": "stdout",
          "text": [
            "Training Time: 0.5006 seconds\n"
          ]
        }
      ]
    },
    {
      "cell_type": "code",
      "source": [
        "print(\"\\nClassification Report:\")\n",
        "print(classification_report(y_test, y_pred_svm))\n"
      ],
      "metadata": {
        "colab": {
          "base_uri": "https://localhost:8080/"
        },
        "id": "TZNsOgYSvdaq",
        "outputId": "b2d53f9e-e041-4b64-c557-32fa98ce0b2f"
      },
      "execution_count": 30,
      "outputs": [
        {
          "output_type": "stream",
          "name": "stdout",
          "text": [
            "\n",
            "Classification Report:\n",
            "              precision    recall  f1-score   support\n",
            "\n",
            "           0       1.00      1.00      1.00      1263\n",
            "           1       1.00      1.00      1.00      1175\n",
            "\n",
            "    accuracy                           1.00      2438\n",
            "   macro avg       1.00      1.00      1.00      2438\n",
            "weighted avg       1.00      1.00      1.00      2438\n",
            "\n"
          ]
        }
      ]
    },
    {
      "cell_type": "code",
      "source": [],
      "metadata": {
        "id": "jQDnVSPsvl2Z"
      },
      "execution_count": null,
      "outputs": []
    }
  ]
}