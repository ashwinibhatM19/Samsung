{
  "nbformat": 4,
  "nbformat_minor": 0,
  "metadata": {
    "colab": {
      "provenance": [],
      "include_colab_link": true
    },
    "kernelspec": {
      "name": "python3",
      "display_name": "Python 3"
    },
    "language_info": {
      "name": "python"
    }
  },
  "cells": [
    {
      "cell_type": "markdown",
      "metadata": {
        "id": "view-in-github",
        "colab_type": "text"
      },
      "source": [
        "<a href=\"https://colab.research.google.com/github/ashwinibhatM19/Samsung/blob/main/LR_with_cross_validation_ipl.ipynb\" target=\"_parent\"><img src=\"https://colab.research.google.com/assets/colab-badge.svg\" alt=\"Open In Colab\"/></a>"
      ]
    },
    {
      "cell_type": "code",
      "execution_count": 75,
      "metadata": {
        "id": "7_JWT6Ce98-E"
      },
      "outputs": [],
      "source": [
        "import pandas as pd\n",
        "import numpy as np\n",
        "import matplotlib.pyplot as plt\n",
        "import seaborn as sns\n",
        "\n",
        "from sklearn.model_selection import train_test_split, StratifiedKFold, cross_val_score\n",
        "from sklearn.preprocessing import StandardScaler\n",
        "from sklearn.linear_model import LogisticRegression"
      ]
    },
    {
      "cell_type": "code",
      "source": [
        "import pandas as pd\n",
        "df_del = pd.read_csv('/content/deliveries.csv', on_bad_lines='skip')"
      ],
      "metadata": {
        "id": "4qHIW3RJ9_F6"
      },
      "execution_count": 76,
      "outputs": []
    },
    {
      "cell_type": "code",
      "source": [
        "\n",
        "df['is_boundary'] = (df['batsman_runs'] >= 4).astype(int)\n",
        "\n",
        "\n",
        "features = ['batting_team', 'bowling_team', 'over', 'ball', 'batsman', 'bowler']\n",
        "\n",
        "\n",
        "le = LabelEncoder()\n",
        "for col in features:\n",
        "    df[col] = le.fit_transform(df[col].astype(str))\n",
        "\n",
        "X = df[features]\n",
        "y = df['is_boundary']"
      ],
      "metadata": {
        "id": "25CNw_DXlfIi"
      },
      "execution_count": 77,
      "outputs": []
    },
    {
      "cell_type": "markdown",
      "source": [
        "Choose a cross-validation strategy: For imbalanced datasets like breast cancer, StratifiedKFold is recommended to maintain class proportions in each fold"
      ],
      "metadata": {
        "id": "ErdU0PSL-fBd"
      }
    },
    {
      "cell_type": "markdown",
      "source": [
        "Perform cross-validation and evaluate scores: Use cross_val_score for a concise approach."
      ],
      "metadata": {
        "id": "JPIHOPsO-r14"
      }
    },
    {
      "cell_type": "code",
      "source": [
        "model = LogisticRegression(solver='liblinear', max_iter=1000)"
      ],
      "metadata": {
        "id": "OE_hYKQ4-mu4"
      },
      "execution_count": 78,
      "outputs": []
    },
    {
      "cell_type": "markdown",
      "source": [],
      "metadata": {
        "id": "HylmhjI-ltcH"
      }
    },
    {
      "cell_type": "code",
      "source": [
        "skf = StratifiedKFold(n_splits=10, shuffle=True, random_state=42)\n",
        "cv_scores = cross_val_score(model, X_scaled, y, cv=skf, scoring='accuracy')"
      ],
      "metadata": {
        "id": "A9S0p5Yi-18P"
      },
      "execution_count": 79,
      "outputs": []
    },
    {
      "cell_type": "code",
      "source": [
        "print(\"Cross-validation scores:\", cv_scores)"
      ],
      "metadata": {
        "colab": {
          "base_uri": "https://localhost:8080/"
        },
        "id": "G8UjISaybaWT",
        "outputId": "7285c071-6a91-4b27-c152-00fffbfeff10"
      },
      "execution_count": 80,
      "outputs": [
        {
          "output_type": "stream",
          "name": "stdout",
          "text": [
            "Cross-validation scores: [0.99672285 0.99607912 0.99678137 0.99689841 0.99631299 0.99672265\n",
            " 0.9968397  0.99631299 0.99613741 0.9970738 ]\n"
          ]
        }
      ]
    },
    {
      "cell_type": "code",
      "source": [
        "print(\"Mean accuracy:\", np.mean(cv_scores))"
      ],
      "metadata": {
        "colab": {
          "base_uri": "https://localhost:8080/"
        },
        "id": "zYbDNNsWbcmY",
        "outputId": "08b3a622-f966-4ea2-c274-ac8ea471703c"
      },
      "execution_count": 81,
      "outputs": [
        {
          "output_type": "stream",
          "name": "stdout",
          "text": [
            "Mean accuracy: 0.9965881285085645\n"
          ]
        }
      ]
    },
    {
      "cell_type": "code",
      "source": [
        "print(\"Standard deviation:\", np.std(cv_scores))"
      ],
      "metadata": {
        "id": "aMZgkZjb-7UG",
        "colab": {
          "base_uri": "https://localhost:8080/"
        },
        "outputId": "4ddcc3cf-dffc-40bc-9298-b3ba36d582b6"
      },
      "execution_count": 82,
      "outputs": [
        {
          "output_type": "stream",
          "name": "stdout",
          "text": [
            "Standard deviation: 0.00032903880174137785\n"
          ]
        }
      ]
    },
    {
      "cell_type": "code",
      "source": [
        "import pandas as pd\n",
        "import numpy as np\n",
        "from sklearn.linear_model import LogisticRegression\n",
        "from sklearn.model_selection import StratifiedKFold, cross_val_score\n",
        "from sklearn.preprocessing import LabelEncoder, StandardScaler"
      ],
      "metadata": {
        "id": "AZaYmTRvl1Ir"
      },
      "execution_count": 83,
      "outputs": []
    },
    {
      "cell_type": "code",
      "source": [
        "df = pd.read_csv('/content/matches.csv', on_bad_lines='skip')"
      ],
      "metadata": {
        "id": "8QWk9XiUl8iT"
      },
      "execution_count": 84,
      "outputs": []
    },
    {
      "cell_type": "code",
      "source": [
        "df = df.dropna(subset=['toss_decision'])"
      ],
      "metadata": {
        "id": "iJ9xTBtDmDUw"
      },
      "execution_count": 85,
      "outputs": []
    },
    {
      "cell_type": "code",
      "source": [
        "df['toss_bat'] = (df['toss_decision'] == 'bat').astype(int)"
      ],
      "metadata": {
        "id": "ggKGuXo5mHbn"
      },
      "execution_count": 86,
      "outputs": []
    },
    {
      "cell_type": "code",
      "source": [
        "features = ['season', 'city', 'team1', 'team2', 'toss_winner']"
      ],
      "metadata": {
        "id": "2MwUMMhBmJ2-"
      },
      "execution_count": 87,
      "outputs": []
    },
    {
      "cell_type": "code",
      "source": [
        "le = LabelEncoder()\n",
        "for col in features:\n",
        "    df[col] = le.fit_transform(df[col].astype(str))"
      ],
      "metadata": {
        "id": "A3JibTVVmKtO"
      },
      "execution_count": 88,
      "outputs": []
    },
    {
      "cell_type": "code",
      "source": [
        "X = df[features]\n",
        "y = df['toss_bat']"
      ],
      "metadata": {
        "id": "PTFSxFoNmOfn"
      },
      "execution_count": 89,
      "outputs": []
    },
    {
      "cell_type": "code",
      "source": [
        "scaler = StandardScaler()\n",
        "X_scaled = scaler.fit_transform(X)"
      ],
      "metadata": {
        "id": "e4D7GXRvmPYb"
      },
      "execution_count": 90,
      "outputs": []
    },
    {
      "cell_type": "code",
      "source": [
        "model = LogisticRegression(solver='liblinear', max_iter=1000)"
      ],
      "metadata": {
        "id": "OsR-w7pmmR0F"
      },
      "execution_count": 91,
      "outputs": []
    },
    {
      "cell_type": "code",
      "source": [
        "skf = StratifiedKFold(n_splits=100, shuffle=True, random_state=42)\n",
        "cv_scores = cross_val_score(model, X_scaled, y, cv=skf, scoring='accuracy')"
      ],
      "metadata": {
        "id": "cBEnKgsJmT-k"
      },
      "execution_count": 96,
      "outputs": []
    },
    {
      "cell_type": "code",
      "source": [
        "print(\"Cross-validation scores:\", cv_scores)"
      ],
      "metadata": {
        "id": "jNX0M2ommWl0",
        "outputId": "b79222c7-1731-4efc-f617-bc77c5b10351",
        "colab": {
          "base_uri": "https://localhost:8080/"
        }
      },
      "execution_count": 97,
      "outputs": [
        {
          "output_type": "stream",
          "name": "stdout",
          "text": [
            "Cross-validation scores: [0.71428571 0.28571429 0.71428571 0.85714286 0.42857143 0.85714286\n",
            " 0.42857143 0.42857143 0.85714286 0.57142857 0.85714286 0.28571429\n",
            " 0.85714286 1.         0.42857143 0.42857143 0.57142857 0.28571429\n",
            " 0.42857143 0.28571429 0.57142857 0.57142857 0.71428571 0.28571429\n",
            " 0.57142857 0.85714286 0.57142857 0.57142857 0.42857143 0.57142857\n",
            " 0.57142857 0.57142857 1.         0.42857143 0.42857143 0.42857143\n",
            " 0.5        1.         0.66666667 0.5        0.66666667 0.5\n",
            " 0.83333333 0.33333333 0.5        0.5        0.66666667 1.\n",
            " 0.83333333 0.66666667 0.5        0.83333333 0.33333333 0.66666667\n",
            " 0.83333333 0.5        0.5        0.5        0.5        0.83333333\n",
            " 0.66666667 0.5        1.         0.66666667 0.83333333 0.83333333\n",
            " 0.5        0.66666667 0.66666667 0.66666667 0.5        0.66666667\n",
            " 0.16666667 0.5        0.5        0.66666667 0.66666667 0.5\n",
            " 0.33333333 0.66666667 0.16666667 0.66666667 0.5        0.5\n",
            " 0.5        0.5        0.5        0.33333333 0.66666667 1.\n",
            " 0.66666667 0.5        0.16666667 0.66666667 0.83333333 1.\n",
            " 0.5        0.5        0.83333333 0.83333333]\n"
          ]
        }
      ]
    },
    {
      "cell_type": "code",
      "source": [
        "print(\"Mean accuracy:\", np.mean(cv_scores))"
      ],
      "metadata": {
        "id": "gd2b03aAmauc",
        "outputId": "bbc8cf20-c997-4233-d3e6-e98258ab3f32",
        "colab": {
          "base_uri": "https://localhost:8080/"
        }
      },
      "execution_count": 98,
      "outputs": [
        {
          "output_type": "stream",
          "name": "stdout",
          "text": [
            "Mean accuracy: 0.5988095238095239\n"
          ]
        }
      ]
    },
    {
      "cell_type": "code",
      "source": [
        "print(\"Standard deviation:\", np.std(cv_scores))"
      ],
      "metadata": {
        "id": "IYyzD5eWmdQ0",
        "outputId": "a7537022-be26-49f7-c962-ee55266e6dfe",
        "colab": {
          "base_uri": "https://localhost:8080/"
        }
      },
      "execution_count": 99,
      "outputs": [
        {
          "output_type": "stream",
          "name": "stdout",
          "text": [
            "Standard deviation: 0.2015915978794774\n"
          ]
        }
      ]
    }
  ]
}